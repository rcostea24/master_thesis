{
 "cells": [
  {
   "cell_type": "code",
   "execution_count": 9,
   "metadata": {},
   "outputs": [],
   "source": [
    "import nibabel as nib\n",
    "import os\n",
    "import matplotlib.pyplot as plt\n",
    "import numpy as np\n",
    "import cv2\n",
    "from einops.layers.torch import Rearrange\n",
    "import torch\n",
    "import torchvision\n",
    "import scipy\n",
    "\n",
    "import pandas as pd\n",
    "from sklearn.model_selection import train_test_split"
   ]
  },
  {
   "cell_type": "code",
   "execution_count": null,
   "metadata": {},
   "outputs": [],
   "source": [
    "df = pd.read_csv(\"/home/razvan/data/adni_preprocessed_v4/train_annot.csv\")\n",
    "\n",
    "LABELS_MAPPING = {\n",
    "    'CN': 0, # Cognitively Normal\n",
    "    'SMC': 1, # Significant Memory Concern\n",
    "    'MCI': 2, # Mild Cognitive Impairment\n",
    "    'LMCI': 3, # Late Mild Cognitive Impairment \n",
    "    'EMCI': 4, # Early Mild Cognitive Impairment\n",
    "    'AD': 5, # Alzheimer's Dementia\n",
    "}\n",
    "\n",
    "INV_LABELS_MAPPING = {v: k for k, v in LABELS_MAPPING.items()}\n",
    "\n",
    "df[\"label\"] = df[\"label\"].apply(lambda x: INV_LABELS_MAPPING[x])\n",
    "# df.to_csv(\"/home/razvan/data/adni_preprocessed_v4/val_annot_explicit.csv\")"
   ]
  },
  {
   "cell_type": "code",
   "execution_count": 21,
   "metadata": {},
   "outputs": [
    {
     "name": "stdout",
     "output_type": "stream",
     "text": [
      "label\n",
      "CN      1127\n",
      "EMCI     610\n",
      "MCI      445\n",
      "LMCI     376\n",
      "AD       274\n",
      "SMC      131\n",
      "Name: count, dtype: int64\n",
      "[0.83762201 0.65967855 3.44525547]\n",
      "0.8376220053238687\n",
      "0.6596785464709993\n",
      "3.4452554744525545\n"
     ]
    }
   ],
   "source": [
    "from sklearn.utils.class_weight import compute_class_weight\n",
    "\n",
    "df = pd.read_csv(\"/home/razvan/data/adni_preprocessed_v4/train_annot.csv\")\n",
    "print(df[\"label\"].value_counts())\n",
    "labels_mapping = {\n",
    "    \"CN\": 0, \n",
    "    \"SMC\": -1, \n",
    "    \"MCI\": 1, \n",
    "    \"LMCI\": 1, \n",
    "    \"EMCI\": 1, \n",
    "    \"AD\": 2\n",
    "}\n",
    "labels = df[\"label\"].apply(lambda x: labels_mapping[x])\n",
    "labels = labels[labels != -1]\n",
    "# plt.hist(labels)\n",
    "# plt.show()\n",
    "\n",
    "class_weight = compute_class_weight(class_weight=\"balanced\", classes=np.sort(labels.unique()), y=labels)\n",
    "print(class_weight)\n",
    "\n",
    "total_samples = len(labels)\n",
    "num_classes = len(set(labels))\n",
    "\n",
    "for i in range(num_classes):\n",
    "    num_samples_in_class_i = len(labels[labels == i])\n",
    "    weight_for_class_i = total_samples / (num_samples_in_class_i * num_classes)\n",
    "    print(weight_for_class_i)\n",
    "    \n",
    "\n"
   ]
  },
  {
   "cell_type": "code",
   "execution_count": null,
   "metadata": {},
   "outputs": [
    {
     "ename": "KeyboardInterrupt",
     "evalue": "",
     "output_type": "error",
     "traceback": [
      "\u001b[31m---------------------------------------------------------------------------\u001b[39m",
      "\u001b[31mKeyboardInterrupt\u001b[39m                         Traceback (most recent call last)",
      "\u001b[36mCell\u001b[39m\u001b[36m \u001b[39m\u001b[32mIn[6]\u001b[39m\u001b[32m, line 42\u001b[39m\n\u001b[32m     39\u001b[39m             \u001b[38;5;66;03m# Convert grayscale to BGR explicitly\u001b[39;00m\n\u001b[32m     40\u001b[39m             color_frame = cv2.cvtColor(resized_frame, cv2.COLOR_GRAY2BGR)\n\u001b[32m---> \u001b[39m\u001b[32m42\u001b[39m             \u001b[43mout\u001b[49m\u001b[43m.\u001b[49m\u001b[43mwrite\u001b[49m\u001b[43m(\u001b[49m\u001b[43mcolor_frame\u001b[49m\u001b[43m)\u001b[49m  \u001b[38;5;66;03m# Ensure frames are written\u001b[39;00m\n\u001b[32m     44\u001b[39m         out.release()\n\u001b[32m     46\u001b[39m \u001b[38;5;28mprint\u001b[39m(\u001b[33m\"\u001b[39m\u001b[33mAll videos saved successfully.\u001b[39m\u001b[33m\"\u001b[39m)\n",
      "\u001b[31mKeyboardInterrupt\u001b[39m: "
     ]
    }
   ],
   "source": [
    "import copy\n",
    "\n",
    "def normalize_frame(frame):\n",
    "    \"\"\"Normalize the frame data to 0-255.\"\"\"\n",
    "    frame = cv2.normalize(frame, None, 0, 255, cv2.NORM_MINMAX)\n",
    "    return frame.astype(np.uint8)\n",
    "\n",
    "# Load the image\n",
    "path = \"/home/razvan/data/adni_preprocessed_v3/train_img\"\n",
    "dest_folder = \"/home/razvan/data/movies\"\n",
    "files = os.listdir(path)\n",
    "for file in files:\n",
    "    file_dest_folder = os.path.join(dest_folder, file)\n",
    "    img = nib.load(os.path.join(path, file))\n",
    "    data = img.get_fdata()\n",
    "    x_dim, y_dim, z_dim, time_stamps = data.shape\n",
    "\n",
    "    frame_size = 256\n",
    "    frame_size = frame_size if frame_size % 2 == 0 else frame_size - 1  \n",
    "\n",
    "    num_cols = int(np.ceil(np.sqrt(time_stamps)))\n",
    "    num_rows = int(np.ceil(time_stamps / num_cols))\n",
    "\n",
    "    os.makedirs(file_dest_folder, exist_ok=True)\n",
    "\n",
    "    fourcc = cv2.VideoWriter_fourcc(*'mp4v')\n",
    "\n",
    "    for slice_index in range(z_dim):\n",
    "        video_path = os.path.join(file_dest_folder, f\"slice_{slice_index}.mp4\")\n",
    "        out = cv2.VideoWriter(video_path, fourcc, 10, (frame_size, frame_size), isColor=True)\n",
    "\n",
    "        for temp_index in range(time_stamps):\n",
    "            frame = data[:, :, slice_index, temp_index]\n",
    "            frame = normalize_frame(frame)\n",
    "\n",
    "            rot_frame = np.rot90(frame)\n",
    "            resized_frame = cv2.resize(rot_frame, (frame_size, frame_size))\n",
    "            \n",
    "            # Convert grayscale to BGR explicitly\n",
    "            color_frame = cv2.cvtColor(resized_frame, cv2.COLOR_GRAY2BGR)\n",
    "            \n",
    "            out.write(color_frame)  # Ensure frames are written\n",
    "\n",
    "        out.release()\n",
    "\n",
    "print(\"All videos saved successfully.\")"
   ]
  }
 ],
 "metadata": {
  "kernelspec": {
   "display_name": "env",
   "language": "python",
   "name": "python3"
  },
  "language_info": {
   "codemirror_mode": {
    "name": "ipython",
    "version": 3
   },
   "file_extension": ".py",
   "mimetype": "text/x-python",
   "name": "python",
   "nbconvert_exporter": "python",
   "pygments_lexer": "ipython3",
   "version": "3.12.7"
  }
 },
 "nbformat": 4,
 "nbformat_minor": 2
}
